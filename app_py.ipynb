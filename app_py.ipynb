{
  "nbformat": 4,
  "nbformat_minor": 0,
  "metadata": {
    "colab": {
      "provenance": [],
      "authorship_tag": "ABX9TyMDO1hF/H3YAZPrzF3Eu+6f",
      "include_colab_link": true
    },
    "kernelspec": {
      "name": "python3",
      "display_name": "Python 3"
    },
    "language_info": {
      "name": "python"
    }
  },
  "cells": [
    {
      "cell_type": "markdown",
      "metadata": {
        "id": "view-in-github",
        "colab_type": "text"
      },
      "source": [
        "<a href=\"https://colab.research.google.com/github/26082005-m/innomatics/blob/main/app_py.ipynb\" target=\"_parent\"><img src=\"https://colab.research.google.com/assets/colab-badge.svg\" alt=\"Open In Colab\"/></a>"
      ]
    },
    {
      "cell_type": "code",
      "execution_count": 1,
      "metadata": {
        "colab": {
          "base_uri": "https://localhost:8080/"
        },
        "id": "8Rh5Yp3x-ppo",
        "outputId": "9ab4ff31-f480-45a8-d322-68f1f1a4f37f"
      },
      "outputs": [
        {
          "output_type": "stream",
          "name": "stdout",
          "text": [
            "Collecting streamlit\n",
            "  Downloading streamlit-1.49.1-py3-none-any.whl.metadata (9.5 kB)\n",
            "Requirement already satisfied: opencv-python-headless in /usr/local/lib/python3.12/dist-packages (4.12.0.88)\n",
            "Requirement already satisfied: pandas in /usr/local/lib/python3.12/dist-packages (2.2.2)\n",
            "Requirement already satisfied: openpyxl in /usr/local/lib/python3.12/dist-packages (3.1.5)\n",
            "Requirement already satisfied: numpy in /usr/local/lib/python3.12/dist-packages (2.0.2)\n",
            "Requirement already satisfied: altair!=5.4.0,!=5.4.1,<6,>=4.0 in /usr/local/lib/python3.12/dist-packages (from streamlit) (5.5.0)\n",
            "Requirement already satisfied: blinker<2,>=1.5.0 in /usr/local/lib/python3.12/dist-packages (from streamlit) (1.9.0)\n",
            "Requirement already satisfied: cachetools<7,>=4.0 in /usr/local/lib/python3.12/dist-packages (from streamlit) (5.5.2)\n",
            "Requirement already satisfied: click<9,>=7.0 in /usr/local/lib/python3.12/dist-packages (from streamlit) (8.2.1)\n",
            "Requirement already satisfied: packaging<26,>=20 in /usr/local/lib/python3.12/dist-packages (from streamlit) (25.0)\n",
            "Requirement already satisfied: pillow<12,>=7.1.0 in /usr/local/lib/python3.12/dist-packages (from streamlit) (11.3.0)\n",
            "Requirement already satisfied: protobuf<7,>=3.20 in /usr/local/lib/python3.12/dist-packages (from streamlit) (5.29.5)\n",
            "Requirement already satisfied: pyarrow>=7.0 in /usr/local/lib/python3.12/dist-packages (from streamlit) (18.1.0)\n",
            "Requirement already satisfied: requests<3,>=2.27 in /usr/local/lib/python3.12/dist-packages (from streamlit) (2.32.4)\n",
            "Requirement already satisfied: tenacity<10,>=8.1.0 in /usr/local/lib/python3.12/dist-packages (from streamlit) (8.5.0)\n",
            "Requirement already satisfied: toml<2,>=0.10.1 in /usr/local/lib/python3.12/dist-packages (from streamlit) (0.10.2)\n",
            "Requirement already satisfied: typing-extensions<5,>=4.4.0 in /usr/local/lib/python3.12/dist-packages (from streamlit) (4.15.0)\n",
            "Requirement already satisfied: watchdog<7,>=2.1.5 in /usr/local/lib/python3.12/dist-packages (from streamlit) (6.0.0)\n",
            "Requirement already satisfied: gitpython!=3.1.19,<4,>=3.0.7 in /usr/local/lib/python3.12/dist-packages (from streamlit) (3.1.45)\n",
            "Collecting pydeck<1,>=0.8.0b4 (from streamlit)\n",
            "  Downloading pydeck-0.9.1-py2.py3-none-any.whl.metadata (4.1 kB)\n",
            "Requirement already satisfied: tornado!=6.5.0,<7,>=6.0.3 in /usr/local/lib/python3.12/dist-packages (from streamlit) (6.4.2)\n",
            "Requirement already satisfied: python-dateutil>=2.8.2 in /usr/local/lib/python3.12/dist-packages (from pandas) (2.9.0.post0)\n",
            "Requirement already satisfied: pytz>=2020.1 in /usr/local/lib/python3.12/dist-packages (from pandas) (2025.2)\n",
            "Requirement already satisfied: tzdata>=2022.7 in /usr/local/lib/python3.12/dist-packages (from pandas) (2025.2)\n",
            "Requirement already satisfied: et-xmlfile in /usr/local/lib/python3.12/dist-packages (from openpyxl) (2.0.0)\n",
            "Requirement already satisfied: jinja2 in /usr/local/lib/python3.12/dist-packages (from altair!=5.4.0,!=5.4.1,<6,>=4.0->streamlit) (3.1.6)\n",
            "Requirement already satisfied: jsonschema>=3.0 in /usr/local/lib/python3.12/dist-packages (from altair!=5.4.0,!=5.4.1,<6,>=4.0->streamlit) (4.25.1)\n",
            "Requirement already satisfied: narwhals>=1.14.2 in /usr/local/lib/python3.12/dist-packages (from altair!=5.4.0,!=5.4.1,<6,>=4.0->streamlit) (2.4.0)\n",
            "Requirement already satisfied: gitdb<5,>=4.0.1 in /usr/local/lib/python3.12/dist-packages (from gitpython!=3.1.19,<4,>=3.0.7->streamlit) (4.0.12)\n",
            "Requirement already satisfied: six>=1.5 in /usr/local/lib/python3.12/dist-packages (from python-dateutil>=2.8.2->pandas) (1.17.0)\n",
            "Requirement already satisfied: charset_normalizer<4,>=2 in /usr/local/lib/python3.12/dist-packages (from requests<3,>=2.27->streamlit) (3.4.3)\n",
            "Requirement already satisfied: idna<4,>=2.5 in /usr/local/lib/python3.12/dist-packages (from requests<3,>=2.27->streamlit) (3.10)\n",
            "Requirement already satisfied: urllib3<3,>=1.21.1 in /usr/local/lib/python3.12/dist-packages (from requests<3,>=2.27->streamlit) (2.5.0)\n",
            "Requirement already satisfied: certifi>=2017.4.17 in /usr/local/lib/python3.12/dist-packages (from requests<3,>=2.27->streamlit) (2025.8.3)\n",
            "Requirement already satisfied: smmap<6,>=3.0.1 in /usr/local/lib/python3.12/dist-packages (from gitdb<5,>=4.0.1->gitpython!=3.1.19,<4,>=3.0.7->streamlit) (5.0.2)\n",
            "Requirement already satisfied: MarkupSafe>=2.0 in /usr/local/lib/python3.12/dist-packages (from jinja2->altair!=5.4.0,!=5.4.1,<6,>=4.0->streamlit) (3.0.2)\n",
            "Requirement already satisfied: attrs>=22.2.0 in /usr/local/lib/python3.12/dist-packages (from jsonschema>=3.0->altair!=5.4.0,!=5.4.1,<6,>=4.0->streamlit) (25.3.0)\n",
            "Requirement already satisfied: jsonschema-specifications>=2023.03.6 in /usr/local/lib/python3.12/dist-packages (from jsonschema>=3.0->altair!=5.4.0,!=5.4.1,<6,>=4.0->streamlit) (2025.9.1)\n",
            "Requirement already satisfied: referencing>=0.28.4 in /usr/local/lib/python3.12/dist-packages (from jsonschema>=3.0->altair!=5.4.0,!=5.4.1,<6,>=4.0->streamlit) (0.36.2)\n",
            "Requirement already satisfied: rpds-py>=0.7.1 in /usr/local/lib/python3.12/dist-packages (from jsonschema>=3.0->altair!=5.4.0,!=5.4.1,<6,>=4.0->streamlit) (0.27.1)\n",
            "Downloading streamlit-1.49.1-py3-none-any.whl (10.0 MB)\n",
            "\u001b[2K   \u001b[90m━━━━━━━━━━━━━━━━━━━━━━━━━━━━━━━━━━━━━━━━\u001b[0m \u001b[32m10.0/10.0 MB\u001b[0m \u001b[31m65.7 MB/s\u001b[0m eta \u001b[36m0:00:00\u001b[0m\n",
            "\u001b[?25hDownloading pydeck-0.9.1-py2.py3-none-any.whl (6.9 MB)\n",
            "\u001b[2K   \u001b[90m━━━━━━━━━━━━━━━━━━━━━━━━━━━━━━━━━━━━━━━━\u001b[0m \u001b[32m6.9/6.9 MB\u001b[0m \u001b[31m96.0 MB/s\u001b[0m eta \u001b[36m0:00:00\u001b[0m\n",
            "\u001b[?25hInstalling collected packages: pydeck, streamlit\n",
            "Successfully installed pydeck-0.9.1 streamlit-1.49.1\n"
          ]
        },
        {
          "output_type": "stream",
          "name": "stderr",
          "text": [
            "2025-09-21 06:34:57.390 WARNING streamlit.runtime.scriptrunner_utils.script_run_context: Thread 'MainThread': missing ScriptRunContext! This warning can be ignored when running in bare mode.\n",
            "2025-09-21 06:34:57.391 WARNING streamlit.runtime.scriptrunner_utils.script_run_context: Thread 'MainThread': missing ScriptRunContext! This warning can be ignored when running in bare mode.\n",
            "2025-09-21 06:34:57.487 \n",
            "  \u001b[33m\u001b[1mWarning:\u001b[0m to view this Streamlit app on a browser, run it with the following\n",
            "  command:\n",
            "\n",
            "    streamlit run /usr/local/lib/python3.12/dist-packages/colab_kernel_launcher.py [ARGUMENTS]\n",
            "2025-09-21 06:34:57.487 Thread 'MainThread': missing ScriptRunContext! This warning can be ignored when running in bare mode.\n",
            "2025-09-21 06:34:57.490 Thread 'MainThread': missing ScriptRunContext! This warning can be ignored when running in bare mode.\n",
            "2025-09-21 06:34:57.490 Thread 'MainThread': missing ScriptRunContext! This warning can be ignored when running in bare mode.\n",
            "2025-09-21 06:34:57.492 Thread 'MainThread': missing ScriptRunContext! This warning can be ignored when running in bare mode.\n",
            "2025-09-21 06:34:57.493 Thread 'MainThread': missing ScriptRunContext! This warning can be ignored when running in bare mode.\n",
            "2025-09-21 06:34:57.494 Thread 'MainThread': missing ScriptRunContext! This warning can be ignored when running in bare mode.\n",
            "2025-09-21 06:34:57.495 Thread 'MainThread': missing ScriptRunContext! This warning can be ignored when running in bare mode.\n",
            "2025-09-21 06:34:57.496 Thread 'MainThread': missing ScriptRunContext! This warning can be ignored when running in bare mode.\n",
            "2025-09-21 06:34:57.497 Thread 'MainThread': missing ScriptRunContext! This warning can be ignored when running in bare mode.\n",
            "2025-09-21 06:34:57.498 Thread 'MainThread': missing ScriptRunContext! This warning can be ignored when running in bare mode.\n",
            "2025-09-21 06:34:57.500 Thread 'MainThread': missing ScriptRunContext! This warning can be ignored when running in bare mode.\n",
            "2025-09-21 06:34:57.500 Thread 'MainThread': missing ScriptRunContext! This warning can be ignored when running in bare mode.\n",
            "2025-09-21 06:34:57.501 Thread 'MainThread': missing ScriptRunContext! This warning can be ignored when running in bare mode.\n",
            "2025-09-21 06:34:57.501 Thread 'MainThread': missing ScriptRunContext! This warning can be ignored when running in bare mode.\n"
          ]
        }
      ],
      "source": [
        "# Install required packages (run in Colab)\n",
        "!pip install streamlit opencv-python-headless pandas openpyxl numpy\n",
        "\n",
        "# Save this code in a file called app.py\n",
        "import streamlit as st\n",
        "import cv2\n",
        "import numpy as np\n",
        "import pandas as pd\n",
        "from io import BytesIO\n",
        "\n",
        "st.set_page_config(page_title=\"OMR Evaluation System\", layout=\"wide\")\n",
        "st.title(\"📄 Automated OMR Evaluation System\")\n",
        "\n",
        "# Upload OMR images\n",
        "uploaded_files = st.file_uploader(\n",
        "    \"Upload OMR Images (JPEG/PNG)\", type=['jpg', 'jpeg', 'png'], accept_multiple_files=True\n",
        ")\n",
        "\n",
        "# Upload answer key Excel\n",
        "answer_key_file = st.file_uploader(\n",
        "    \"Upload Answer Key Excel\", type=['xlsx']\n",
        ")\n",
        "\n",
        "def preprocess_image(image_bytes):\n",
        "    # Convert bytes to OpenCV image\n",
        "    file_bytes = np.asarray(bytearray(image_bytes.read()), dtype=np.uint8)\n",
        "    img = cv2.imdecode(file_bytes, cv2.IMREAD_GRAYSCALE)\n",
        "    # Thresholding for bubble detection\n",
        "    _, thresh = cv2.threshold(img, 150, 255, cv2.THRESH_BINARY_INV)\n",
        "    return thresh\n",
        "\n",
        "def detect_bubbles(thresh_img, num_questions=10, num_options=4):\n",
        "    # Simple contour detection\n",
        "    contours, _ = cv2.findContours(thresh_img, cv2.RETR_EXTERNAL, cv2.CHAIN_APPROX_SIMPLE)\n",
        "    bubble_contours = []\n",
        "    for cnt in contours:\n",
        "        x, y, w, h = cv2.boundingRect(cnt)\n",
        "        if 10 < w < 50 and 10 < h < 50:  # filter approx bubble size\n",
        "            bubble_contours.append((x, y, w, h))\n",
        "    bubble_contours = sorted(bubble_contours, key=lambda b: (b[1], b[0]))  # top-to-bottom, left-to-right\n",
        "    answers = []\n",
        "    for q in range(num_questions):\n",
        "        options = bubble_contours[q*num_options:(q+1)*num_options]\n",
        "        filled = None\n",
        "        for i, (x, y, w, h) in enumerate(options):\n",
        "            roi = thresh_img[y:y+h, x:x+w]\n",
        "            if cv2.countNonZero(roi) > (w*h*0.5):  # more than 50% filled\n",
        "                filled = i\n",
        "        answers.append(filled)\n",
        "    return answers\n",
        "\n",
        "def evaluate_omr(omr_answers, answer_key):\n",
        "    scores = {}\n",
        "    for subject in answer_key.columns:\n",
        "        correct = 0\n",
        "        for i, key in enumerate(answer_key[subject]):\n",
        "            if omr_answers[i] == ord(key.lower()) - 97:  # convert 'a'->0\n",
        "                correct += 1\n",
        "        scores[subject] = correct\n",
        "    return scores\n",
        "\n",
        "if uploaded_files and answer_key_file:\n",
        "    # Read answer key Excel\n",
        "    answer_key_df = pd.read_excel(answer_key_file)\n",
        "    all_results = []\n",
        "\n",
        "    st.subheader(\"OMR Evaluation Results\")\n",
        "\n",
        "    for uploaded_file in uploaded_files:\n",
        "        thresh = preprocess_image(uploaded_file)\n",
        "        # Assume each OMR sheet has same number of questions as answer key rows\n",
        "        omr_answers = detect_bubbles(thresh, num_questions=len(answer_key_df), num_options=4)\n",
        "        scores = evaluate_omr(omr_answers, answer_key_df)\n",
        "        scores['Image'] = uploaded_file.name\n",
        "        all_results.append(scores)\n",
        "\n",
        "    result_df = pd.DataFrame(all_results)\n",
        "    result_df = result_df[['Image'] + [col for col in result_df.columns if col != 'Image']]\n",
        "    st.dataframe(result_df)\n",
        "\n",
        "    # Download CSV\n",
        "    csv = result_df.to_csv(index=False).encode('utf-8')\n",
        "    st.download_button(\n",
        "        label=\"Download Results as CSV\",\n",
        "        data=csv,\n",
        "        file_name='OMR_results.csv',\n",
        "        mime='text/csv'\n",
        "    )\n"
      ]
    },
    {
      "cell_type": "code",
      "source": [
        "# 1️⃣ Save the Streamlit code into a file called app.py\n",
        "code = \"\"\"\n",
        "import streamlit as st\n",
        "import cv2\n",
        "import numpy as np\n",
        "import pandas as pd\n",
        "from io import BytesIO\n",
        "\n",
        "st.set_page_config(page_title=\"OMR Evaluation System\", layout=\"wide\")\n",
        "st.title(\"📄 Automated OMR Evaluation System\")\n",
        "\n",
        "uploaded_files = st.file_uploader(\n",
        "    \"Upload OMR Images (JPEG/PNG)\", type=['jpg', 'jpeg', 'png'], accept_multiple_files=True\n",
        ")\n",
        "\n",
        "answer_key_file = st.file_uploader(\n",
        "    \"Upload Answer Key Excel\", type=['xlsx']\n",
        ")\n",
        "\n",
        "def preprocess_image(image_bytes):\n",
        "    file_bytes = np.asarray(bytearray(image_bytes.read()), dtype=np.uint8)\n",
        "    img = cv2.imdecode(file_bytes, cv2.IMREAD_GRAYSCALE)\n",
        "    _, thresh = cv2.threshold(img, 150, 255, cv2.THRESH_BINARY_INV)\n",
        "    return thresh\n",
        "\n",
        "def detect_bubbles(thresh_img, num_questions=10, num_options=4):\n",
        "    contours, _ = cv2.findContours(thresh_img, cv2.RETR_EXTERNAL, cv2.CHAIN_APPROX_SIMPLE)\n",
        "    bubble_contours = []\n",
        "    for cnt in contours:\n",
        "        x, y, w, h = cv2.boundingRect(cnt)\n",
        "        if 10 < w < 50 and 10 < h < 50:\n",
        "            bubble_contours.append((x, y, w, h))\n",
        "    bubble_contours = sorted(bubble_contours, key=lambda b: (b[1], b[0]))\n",
        "    answers = []\n",
        "    for q in range(num_questions):\n",
        "        options = bubble_contours[q*num_options:(q+1)*num_options]\n",
        "        filled = None\n",
        "        for i, (x, y, w, h) in enumerate(options):\n",
        "            roi = thresh_img[y:y+h, x:x+w]\n",
        "            if cv2.countNonZero(roi) > (w*h*0.5):\n",
        "                filled = i\n",
        "        answers.append(filled)\n",
        "    return answers\n",
        "\n",
        "def evaluate_omr(omr_answers, answer_key):\n",
        "    scores = {}\n",
        "    for subject in answer_key.columns:\n",
        "        correct = 0\n",
        "        for i, key in enumerate(answer_key[subject]):\n",
        "            if omr_answers[i] == ord(key.lower()) - 97:\n",
        "                correct += 1\n",
        "        scores[subject] = correct\n",
        "    return scores\n",
        "\n",
        "if uploaded_files and answer_key_file:\n",
        "    answer_key_df = pd.read_excel(answer_key_file)\n",
        "    all_results = []\n",
        "\n",
        "    st.subheader(\"OMR Evaluation Results\")\n",
        "\n",
        "    for uploaded_file in uploaded_files:\n",
        "        thresh = preprocess_image(uploaded_file)\n",
        "        omr_answers = detect_bubbles(thresh, num_questions=len(answer_key_df), num_options=4)\n",
        "        scores = evaluate_omr(omr_answers, answer_key_df)\n",
        "        scores['Image'] = uploaded_file.name\n",
        "        all_results.append(scores)\n",
        "\n",
        "    result_df = pd.DataFrame(all_results)\n",
        "    result_df = result_df[['Image'] + [col for col in result_df.columns if col != 'Image']]\n",
        "    st.dataframe(result_df)\n",
        "\n",
        "    csv = result_df.to_csv(index=False).encode('utf-8')\n",
        "    st.download_button(\n",
        "        label=\"Download Results as CSV\",\n",
        "        data=csv,\n",
        "        file_name='OMR_results.csv',\n",
        "        mime='text/csv'\n",
        "    )\n",
        "\"\"\"\n",
        "\n",
        "with open(\"app.py\", \"w\") as f:\n",
        "    f.write(code)\n"
      ],
      "metadata": {
        "id": "Xa0Qwa9Y_UZt"
      },
      "execution_count": 3,
      "outputs": []
    },
    {
      "cell_type": "code",
      "source": [
        "!streamlit run app.py & npx localtunnel --port 8501\n"
      ],
      "metadata": {
        "colab": {
          "base_uri": "https://localhost:8080/"
        },
        "id": "wTrp6Qtc--KW",
        "outputId": "b5cdb8db-4ef6-4f28-bad5-52c09355e6bc"
      },
      "execution_count": 5,
      "outputs": [
        {
          "output_type": "stream",
          "name": "stdout",
          "text": [
            "\u001b[1G\u001b[0K⠙\n",
            "Collecting usage statistics. To deactivate, set browser.gatherUsageStats to false.\n",
            "\u001b[0m\n",
            "\u001b[1G\u001b[0K⠹\u001b[1G\u001b[0K⠸\u001b[1G\u001b[0K⠼\u001b[1G\u001b[0K⠴\u001b[1G\u001b[0K⠦\u001b[1G\u001b[0K⠧\u001b[0m\n",
            "\u001b[34m\u001b[1m  You can now view your Streamlit app in your browser.\u001b[0m\n",
            "\u001b[0m\n",
            "\u001b[34m  Local URL: \u001b[0m\u001b[1mhttp://localhost:8501\u001b[0m\n",
            "\u001b[34m  Network URL: \u001b[0m\u001b[1mhttp://172.28.0.12:8501\u001b[0m\n",
            "\u001b[34m  External URL: \u001b[0m\u001b[1mhttp://34.125.142.221:8501\u001b[0m\n",
            "\u001b[0m\n",
            "\u001b[1G\u001b[0K⠇\u001b[1G\u001b[0K⠏\u001b[1G\u001b[0K⠋\u001b[1G\u001b[0K\u001b[1G\u001b[0JNeed to install the following packages:\n",
            "localtunnel@2.0.2\n",
            "Ok to proceed? (y) \u001b[20G\u001b[34m  Stopping...\u001b[0m\n",
            "^C\n"
          ]
        }
      ]
    },
    {
      "cell_type": "code",
      "source": [
        "!pip install pyngrok\n"
      ],
      "metadata": {
        "colab": {
          "base_uri": "https://localhost:8080/"
        },
        "id": "5xfAwoxUABmm",
        "outputId": "e2318975-423f-435a-d19b-b032779a4891"
      },
      "execution_count": 6,
      "outputs": [
        {
          "output_type": "stream",
          "name": "stdout",
          "text": [
            "Collecting pyngrok\n",
            "  Downloading pyngrok-7.3.0-py3-none-any.whl.metadata (8.1 kB)\n",
            "Requirement already satisfied: PyYAML>=5.1 in /usr/local/lib/python3.12/dist-packages (from pyngrok) (6.0.2)\n",
            "Downloading pyngrok-7.3.0-py3-none-any.whl (25 kB)\n",
            "Installing collected packages: pyngrok\n",
            "Successfully installed pyngrok-7.3.0\n"
          ]
        }
      ]
    },
    {
      "cell_type": "code",
      "source": [
        "code = \"\"\"\n",
        "# (paste the same Streamlit OMR code here)\n",
        "\"\"\"\n",
        "with open(\"app.py\", \"w\") as f:\n",
        "    f.write(code)\n"
      ],
      "metadata": {
        "id": "e-fIqPCG_T9u"
      },
      "execution_count": 7,
      "outputs": []
    },
    {
      "cell_type": "code",
      "source": [
        "!ngrok authtoken YOUR_NGROK_AUTHTOKEN\n"
      ],
      "metadata": {
        "colab": {
          "base_uri": "https://localhost:8080/"
        },
        "id": "c4jHR9flAkii",
        "outputId": "21c1c5d7-4565-4f2c-b9dc-2173e46906b8"
      },
      "execution_count": 9,
      "outputs": [
        {
          "output_type": "stream",
          "name": "stdout",
          "text": [
            "Authtoken saved to configuration file: /root/.config/ngrok/ngrok.yml\n"
          ]
        }
      ]
    },
    {
      "cell_type": "code",
      "source": [
        "!npm install -g localtunnel"
      ],
      "metadata": {
        "colab": {
          "base_uri": "https://localhost:8080/"
        },
        "id": "LaAbMTeSAzBL",
        "outputId": "d27f5046-14e0-4dca-cd70-6faf5985f716"
      },
      "execution_count": 11,
      "outputs": [
        {
          "output_type": "stream",
          "name": "stdout",
          "text": [
            "\u001b[1G\u001b[0K⠙\u001b[1G\u001b[0K⠹\u001b[1G\u001b[0K⠸\u001b[1G\u001b[0K⠼\u001b[1G\u001b[0K⠴\u001b[1G\u001b[0K⠦\u001b[1G\u001b[0K⠧\u001b[1G\u001b[0K⠇\u001b[1G\u001b[0K⠏\u001b[1G\u001b[0K⠋\u001b[1G\u001b[0K⠙\u001b[1G\u001b[0K⠹\u001b[1G\u001b[0K⠸\u001b[1G\u001b[0K⠼\u001b[1G\u001b[0K⠴\u001b[1G\u001b[0K⠦\u001b[1G\u001b[0K⠧\u001b[1G\u001b[0K⠇\u001b[1G\u001b[0K⠏\u001b[1G\u001b[0K⠋\u001b[1G\u001b[0K\n",
            "added 22 packages in 2s\n",
            "\u001b[1G\u001b[0K⠋\u001b[1G\u001b[0K\n",
            "\u001b[1G\u001b[0K⠋\u001b[1G\u001b[0K3 packages are looking for funding\n",
            "\u001b[1G\u001b[0K⠋\u001b[1G\u001b[0K  run `npm fund` for details\n",
            "\u001b[1G\u001b[0K⠋\u001b[1G\u001b[0K"
          ]
        }
      ]
    },
    {
      "cell_type": "code",
      "source": [
        "# 1️⃣ Save your Streamlit app\n",
        "code = \"\"\"\n",
        "# (paste your app.py Streamlit OMR code here)\n",
        "\"\"\"\n",
        "with open(\"app.py\", \"w\") as f:\n",
        "    f.write(code)\n",
        "\n",
        "# 2️⃣ Install localtunnel\n",
        "!npm install -g localtunnel\n",
        "\n",
        "# 3️⃣ Run Streamlit + localtunnel\n",
        "get_ipython().system_raw(\"streamlit run app.py --server.port 8501 &\")\n",
        "!lt --port 8501\n"
      ],
      "metadata": {
        "colab": {
          "base_uri": "https://localhost:8080/"
        },
        "id": "uHbPn-4VAtF5",
        "outputId": "12a43c0f-4ab7-404c-a5d3-1669c4b071ef"
      },
      "execution_count": 16,
      "outputs": [
        {
          "output_type": "stream",
          "name": "stdout",
          "text": [
            "\u001b[1G\u001b[0K⠙\u001b[1G\u001b[0K⠹\u001b[1G\u001b[0K⠸\u001b[1G\u001b[0K⠼\u001b[1G\u001b[0K\n",
            "changed 22 packages in 566ms\n",
            "\u001b[1G\u001b[0K⠼\u001b[1G\u001b[0K\n",
            "\u001b[1G\u001b[0K⠼\u001b[1G\u001b[0K3 packages are looking for funding\n",
            "\u001b[1G\u001b[0K⠼\u001b[1G\u001b[0K  run `npm fund` for details\n",
            "\u001b[1G\u001b[0K⠼\u001b[1G\u001b[0Kyour url is: https://common-webs-work.loca.lt\n",
            "^C\n"
          ]
        }
      ]
    },
    {
      "cell_type": "code",
      "source": [
        "# Install dependencies\n",
        "!pip install streamlit opencv-python-headless pandas openpyxl numpy pyngrok -q\n",
        "\n",
        "# 1️⃣ Write the Streamlit app\n",
        "app_code = \"\"\"\n",
        "import streamlit as st\n",
        "import cv2\n",
        "import numpy as np\n",
        "import pandas as pd\n",
        "\n",
        "st.title(\"📄 Automated OMR Evaluation System\")\n",
        "\n",
        "uploaded_files = st.file_uploader(\n",
        "    \"Upload OMR Images (JPEG/PNG)\", type=['jpg', 'jpeg', 'png'], accept_multiple_files=True\n",
        ")\n",
        "\n",
        "answer_key_file = st.file_uploader(\n",
        "    \"Upload Answer Key Excel\", type=['xlsx']\n",
        ")\n",
        "\n",
        "def preprocess_image(image_bytes):\n",
        "    file_bytes = np.asarray(bytearray(image_bytes.read()), dtype=np.uint8)\n",
        "    img = cv2.imdecode(file_bytes, cv2.IMREAD_GRAYSCALE)\n",
        "    _, thresh = cv2.threshold(img, 150, 255, cv2.THRESH_BINARY_INV)\n",
        "    return thresh\n",
        "\n",
        "def detect_bubbles(thresh_img, num_questions=10, num_options=4):\n",
        "    contours, _ = cv2.findContours(thresh_img, cv2.RETR_EXTERNAL, cv2.CHAIN_APPROX_SIMPLE)\n",
        "    bubble_contours = []\n",
        "    for cnt in contours:\n",
        "        x, y, w, h = cv2.boundingRect(cnt)\n",
        "        if 10 < w < 50 and 10 < h < 50:\n",
        "            bubble_contours.append((x, y, w, h))\n",
        "    bubble_contours = sorted(bubble_contours, key=lambda b: (b[1], b[0]))\n",
        "    answers = []\n",
        "    for q in range(num_questions):\n",
        "        options = bubble_contours[q*num_options:(q+1)*num_options]\n",
        "        filled = None\n",
        "        for i, (x, y, w, h) in enumerate(options):\n",
        "            roi = thresh_img[y:y+h, x:x+w]\n",
        "            if cv2.countNonZero(roi) > (w*h*0.5):\n",
        "                filled = i\n",
        "        answers.append(filled)\n",
        "    return answers\n",
        "\n",
        "def evaluate_omr(omr_answers, answer_key):\n",
        "    scores = {}\n",
        "    for subject in answer_key.columns:\n",
        "        correct = 0\n",
        "        for i, key in enumerate(answer_key[subject]):\n",
        "            # Extract the last character that is a letter (a, b, c, d)\n",
        "            option = str(key).strip()[-1].lower()  # takes '1 - a' -> 'a'\n",
        "            if option in ['a', 'b', 'c', 'd']:\n",
        "                if omr_answers[i] == ord(option) - 97:  # convert 'a'->0\n",
        "                    correct += 1\n",
        "        scores[subject] = correct\n",
        "    return scores\n",
        "\n",
        "\n",
        "if uploaded_files and answer_key_file:\n",
        "    answer_key_df = pd.read_excel(answer_key_file)\n",
        "    all_results = []\n",
        "\n",
        "    st.subheader(\"OMR Evaluation Results\")\n",
        "\n",
        "    for uploaded_file in uploaded_files:\n",
        "        thresh = preprocess_image(uploaded_file)\n",
        "        omr_answers = detect_bubbles(thresh, num_questions=len(answer_key_df), num_options=4)\n",
        "        scores = evaluate_omr(omr_answers, answer_key_df)\n",
        "        scores['Image'] = uploaded_file.name\n",
        "        all_results.append(scores)\n",
        "\n",
        "    result_df = pd.DataFrame(all_results)\n",
        "    result_df = result_df[['Image'] + [col for col in result_df.columns if col != 'Image']]\n",
        "    st.dataframe(result_df)\n",
        "\n",
        "    csv = result_df.to_csv(index=False).encode('utf-8')\n",
        "    st.download_button(\n",
        "        label=\"Download Results as CSV\",\n",
        "        data=csv,\n",
        "        file_name='OMR_results.csv',\n",
        "        mime='text/csv'\n",
        "    )\n",
        "\"\"\"\n",
        "\n",
        "with open(\"app.py\", \"w\") as f:\n",
        "    f.write(app_code)\n",
        "\n",
        "# 2️⃣ Setup ngrok\n",
        "from pyngrok import ngrok\n",
        "NGROK_AUTH_TOKEN = \"32ncm5WRCmkvJYSOtFQu2zwtSJ1_5oibFkCREgabDz6GbFA7N\"\n",
        "ngrok.set_auth_token(NGROK_AUTH_TOKEN)\n",
        "\n",
        "# 3️⃣ Run Streamlit in background\n",
        "get_ipython().system_raw(\"streamlit run app.py --server.port 8501 &\")\n",
        "\n",
        "# 4️⃣ Open ngrok tunnel\n",
        "import time\n",
        "time.sleep(5)  # wait for Streamlit server to start\n",
        "public_url = ngrok.connect(8501)\n",
        "public_url\n"
      ],
      "metadata": {
        "colab": {
          "base_uri": "https://localhost:8080/"
        },
        "id": "jran8nDKERvq",
        "outputId": "c67d1c6a-d28c-49b5-993d-8956415d2262"
      },
      "execution_count": 21,
      "outputs": [
        {
          "output_type": "execute_result",
          "data": {
            "text/plain": [
              "<NgrokTunnel: \"https://a3f4fccf9a23.ngrok-free.app\" -> \"http://localhost:8501\">"
            ]
          },
          "metadata": {},
          "execution_count": 21
        }
      ]
    }
  ]
}